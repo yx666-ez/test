{
 "cells": [
  {
   "cell_type": "markdown",
   "metadata": {},
   "source": [
    "Write a simple game with the following requirements:\n",
    "\n",
    "1. Print a welcome message that says \"Welcome to Hangman\"\n",
    "2. Store a list of different words that can be used in the game. When the game starts, pick one word randomly. For now, use a list of only single words. \n",
    "3. Display that random word to the user, but display it only as '_' (underscores). e.g., if the word is 'Alice', then only _ _ _ _ _ should be displayed. \n",
    "3. Keep asking the user to guess the word one letter at a time until either the user guesses it correctly, or they run out of total 10 attempts. \n",
    "    3.1. Print how many attempts are left\n",
    "    3.2. Print the current state of the guessed word\n",
    "    3.3. Ask the user enter a single letter\n",
    "    3.4 Every time the user enters something, check that the input is only alphabet and not numbers or special characters. If the user enters such a character, tell the user \"Invalid Character\" and ask the user to try again. \n",
    "    3.5. Keep track of all the letters that the user has entered while playing the game\n",
    "    3.6. If the user enters a letter that was already entered before, inform the user. \n",
    "    3.7. Every time the user makes an incorrect guess, the number of total attempts must be decreased by 1. \n",
    "    3.8. Every time the user makes a correct guess, inform the user that it was correct, fill the word with that letter and continue. For example, if the user enters 'i' when trying to guess the word 'Alice', display to the user _ _ i _ _\n",
    "    3.9 If the entire word has been guessed correctly, display the message \"Awesome! You guessed the word correctly\".\n",
    "4. After the game ends, display \"Thank you for playing. See you next time\" if the user was able to guess the word correctly. Otherwise, display \"Thank you for playing. Better luck next time\" if the user could not guess the word and the number of total attempts is 0. \n",
    "\n",
    "After your have finished writing the program and it works flawlessly, you can COMMIT and then PUSH your program to your GitHub acccount. Then copy that repository link and submit it to \"Non-graded Exercise #2: If-else and Loops\" submission box\n",
    "\n",
    "*** If you still have time and want to try something more, try using a list of multiple words that may have numbers and even special characters. For example, \"Oh, my God!\""
   ]
  },
  {
   "cell_type": "code",
   "execution_count": null,
   "metadata": {},
   "outputs": [],
   "source": [
    "import random\n",
    "\n",
    "def hangman():\n",
    "    print(\"Welcome to Hangman\")\n",
    "\n",
    "    words = [\"bridge\", \"shadow\", \"plain\", \"pencil\", \"plane\"]\n",
    "    attempts = 10\n",
    "    word = random.choice(words)\n",
    "    guessed_word = ['_'] * len(word)\n",
    "    guessed_letters = []\n",
    "\n",
    "    print(\" \".join(guessed_word))\n",
    "\n",
    "    while attempts > 0 and ''.join(guessed_word) != word:\n",
    "        print(f\"\\nAttempts left: {attempts}\")\n",
    "\n",
    "        guess = input(\"Enter a single letter: \").lower()\n",
    "\n",
    "        if not guess.isalpha() or len(guess) != 1:\n",
    "            print(\"The character you entered is invalid. Please try again.\")\n",
    "            continue\n",
    "\n",
    "        if guess in guessed_letters:\n",
    "            print(f\"You have already guessed this letter '{guess}'. Please try again.\")\n",
    "            continue\n",
    "\n",
    "        guessed_letters.append(guess)\n",
    "\n",
    "        if guess in word:\n",
    "            print(f\"Yes! The letter '{guess}' is in the word.\")\n",
    "            for i, letter in enumerate(word):\n",
    "                if letter == guess:\n",
    "                    guessed_word[i] = guess\n",
    "        else:\n",
    "            print(f\"Sorry. The letter '{guess}' is not in the word.\")\n",
    "        \n",
    "        attempts -= 1\n",
    "\n",
    "        print(\" \".join(guessed_word))\n",
    "\n",
    "    if ''.join(guessed_word) == word:\n",
    "        print(\"\\nAwesome! You guessed the word correctly.\")\n",
    "        print(\"Thank you for playing. See you next time.\")\n",
    "    else:\n",
    "        print(f\"\\nThe word was '{word}'.\")\n",
    "        print(\"Thank you for playing. Better luck next time.\")\n",
    "\n",
    "hangman()"
   ]
  }
 ],
 "metadata": {
  "kernelspec": {
   "display_name": "Python 3",
   "language": "python",
   "name": "python3"
  },
  "language_info": {
   "codemirror_mode": {
    "name": "ipython",
    "version": 3
   },
   "file_extension": ".py",
   "mimetype": "text/x-python",
   "name": "python",
   "nbconvert_exporter": "python",
   "pygments_lexer": "ipython3",
   "version": "3.11.9"
  }
 },
 "nbformat": 4,
 "nbformat_minor": 2
}
